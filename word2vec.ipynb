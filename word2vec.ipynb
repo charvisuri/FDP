{
  "nbformat": 4,
  "nbformat_minor": 0,
  "metadata": {
    "colab": {
      "provenance": [],
      "authorship_tag": "ABX9TyNkv1onprCzZCPSuGUUrq++",
      "include_colab_link": true
    },
    "kernelspec": {
      "name": "python3",
      "display_name": "Python 3"
    },
    "language_info": {
      "name": "python"
    }
  },
  "cells": [
    {
      "cell_type": "markdown",
      "metadata": {
        "id": "view-in-github",
        "colab_type": "text"
      },
      "source": [
        "<a href=\"https://colab.research.google.com/github/charvisuri/FDP/blob/main/word2vec.ipynb\" target=\"_parent\"><img src=\"https://colab.research.google.com/assets/colab-badge.svg\" alt=\"Open In Colab\"/></a>"
      ]
    },
    {
      "cell_type": "code",
      "source": [
        "import nltk\n",
        "import gensim.downloader as api\n",
        "\n",
        "# Download the punkt tokenizer models (needed for tokenization)\n",
        "nltk.download('punkt_tab')\n",
        "\n",
        "# Load the pre-trained Word2Vec model (Google News model)\n",
        "model = api.load(\"word2vec-google-news-300\")\n",
        "\n",
        "# Sample sentences\n",
        "sentence1 = \"This is a cute dog. My cat is cute\"\n",
        "\n",
        "# Tokenizing sentences into words using NLTK\n",
        "tokens1 = nltk.word_tokenize(sentence1)\n",
        "\n",
        "# Print tokenized words (optional)\n",
        "print(f\"Tokens in Sentence 1: {tokens1}\")\n",
        "\n",
        "# Calculate similarity between 'dog' and 'cat'\n",
        "similarity_dog_cat = model.similarity('dog', 'cat')\n",
        "print(f\"Similarity between 'dog' and 'cat': {similarity_dog_cat}\")\n",
        "\n",
        "# Calculate similarity between 'is' and 'cute'\n",
        "similarity_is_cute = model.similarity('is', 'cute')\n",
        "print(f\"Similarity between 'is' and 'cute': {similarity_is_cute}\")\n"
      ],
      "metadata": {
        "colab": {
          "base_uri": "https://localhost:8080/"
        },
        "id": "wf6VJL8mVGxn",
        "outputId": "8968b4c7-0281-4b1d-e763-4e4f8365358a"
      },
      "execution_count": 13,
      "outputs": [
        {
          "output_type": "stream",
          "name": "stderr",
          "text": [
            "[nltk_data] Downloading package punkt_tab to /root/nltk_data...\n",
            "[nltk_data]   Package punkt_tab is already up-to-date!\n"
          ]
        },
        {
          "output_type": "stream",
          "name": "stdout",
          "text": [
            "Tokens in Sentence 1: ['This', 'is', 'a', 'cute', 'dog', '.', 'My', 'cat', 'is', 'cute']\n",
            "Similarity between 'dog' and 'cat': 0.760945737361908\n",
            "Similarity between 'is' and 'cute': 0.06796783953905106\n"
          ]
        }
      ]
    },
    {
      "cell_type": "code",
      "source": [
        "pip install nltk"
      ],
      "metadata": {
        "colab": {
          "base_uri": "https://localhost:8080/"
        },
        "id": "8IpGpbWhb9X7",
        "outputId": "6e98f3e6-e4a8-4c5e-949f-4d4482e0cc2e"
      },
      "execution_count": 11,
      "outputs": [
        {
          "output_type": "stream",
          "name": "stdout",
          "text": [
            "Requirement already satisfied: nltk in /usr/local/lib/python3.10/dist-packages (3.9.1)\n",
            "Requirement already satisfied: click in /usr/local/lib/python3.10/dist-packages (from nltk) (8.1.7)\n",
            "Requirement already satisfied: joblib in /usr/local/lib/python3.10/dist-packages (from nltk) (1.4.2)\n",
            "Requirement already satisfied: regex>=2021.8.3 in /usr/local/lib/python3.10/dist-packages (from nltk) (2024.11.6)\n",
            "Requirement already satisfied: tqdm in /usr/local/lib/python3.10/dist-packages (from nltk) (4.67.1)\n"
          ]
        }
      ]
    },
    {
      "cell_type": "code",
      "source": [],
      "metadata": {
        "id": "PSD4nWiLcCmz"
      },
      "execution_count": null,
      "outputs": []
    }
  ]
}